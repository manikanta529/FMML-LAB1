{
  "nbformat": 4,
  "nbformat_minor": 0,
  "metadata": {
    "colab": {
      "provenance": [],
      "include_colab_link": true
    },
    "kernelspec": {
      "name": "python3",
      "display_name": "Python 3"
    },
    "language_info": {
      "name": "python"
    }
  },
  "cells": [
    {
      "cell_type": "markdown",
      "metadata": {
        "id": "view-in-github",
        "colab_type": "text"
      },
      "source": [
        "<a href=\"https://colab.research.google.com/github/manikanta529/FMML-LAB1/blob/main/ML_Lab12.ipynb\" target=\"_parent\"><img src=\"https://colab.research.google.com/assets/colab-badge.svg\" alt=\"Open In Colab\"/></a>"
      ]
    },
    {
      "cell_type": "markdown",
      "source": [
        "**Exploratory Data Analysis(EDA):**\n",
        "\n",
        "Exploratory Data Analysis (EDA) is a crucial initial step in data science projects. It involves analyzing and visualizing data to understand its key characteristics, uncover patterns, and identify relationships between variables refers to the method of studying and exploring record sets to apprehend their predominant traits, discover patterns, locate outliers, and identify relationships between variables. EDA is normally carried out as a preliminary step before undertaking extra formal statistical analyses or modeling."
      ],
      "metadata": {
        "id": "gtnAH2bSBCpA"
      }
    },
    {
      "cell_type": "markdown",
      "source": [
        "**Key aspects of EDA include:**\n",
        "\n",
        "**Distribution of Data:** Examining the distribution of data points to understand their range, central tendencies (mean, median), and dispersion (variance, standard deviation).\n",
        "\n",
        "**Graphical Representations:** Utilizing charts such as histograms, box plots, scatter plots, and bar charts to visualize relationships within the data and distributions of variables.\n",
        "\n",
        "**Outlier Detection:** Identifying unusual values that deviate from other data points. Outliers can influence statistical analyses and might indicate data entry errors or unique cases.\n",
        "\n",
        "**Correlation Analysis:** Checking the relationships between variables to understand how they might affect each other. This includes computing correlation coefficients and creating correlation matrices.\n",
        "\n",
        "**Handling Missing Values:** Detecting and deciding how to address missing data points, whether by imputation or removal, depending on their impact and the amount of missing data.\n",
        "\n",
        "**Summary Statistics:** Calculating key statistics that provide insight into data trends and nuances.\n",
        "\n",
        "**Testing Assumptions:** Many statistical tests and models assume the data meet certain conditions (like normality or homoscedasticity). EDA helps verify these assumptions"
      ],
      "metadata": {
        "id": "yae8mPQ2C39H"
      }
    },
    {
      "cell_type": "markdown",
      "source": [],
      "metadata": {
        "id": "i7sTpKv0DikY"
      }
    },
    {
      "cell_type": "markdown",
      "source": [
        "### **12. Exploratory Data Analysis for Classification using Pandas or Matplotlib.**"
      ],
      "metadata": {
        "id": "LBTCr1rIqh65"
      }
    },
    {
      "cell_type": "code",
      "source": [
        "import pandas as pd\n",
        "\n",
        "# Load the dataset\n",
        "data = pd.read_csv('/content/Lab12.csv')\n",
        "\n"
      ],
      "metadata": {
        "id": "ftfSRznOqrLQ"
      },
      "execution_count": 4,
      "outputs": []
    },
    {
      "cell_type": "code",
      "source": [
        "# Get summary statistics for numerical columns\n",
        "print(data.describe())\n"
      ],
      "metadata": {
        "colab": {
          "base_uri": "https://localhost:8080/"
        },
        "id": "Tch0U-5Tqq_Q",
        "outputId": "3ad3d63f-305f-48f7-a32d-5e786865426e"
      },
      "execution_count": 5,
      "outputs": [
        {
          "output_type": "stream",
          "name": "stdout",
          "text": [
            "                  ID   CREDIT_SCORE  VEHICLE_OWNERSHIP        MARRIED  \\\n",
            "count  105000.000000  105000.000000      105000.000000  105000.000000   \n",
            "mean   394931.295905       0.602173           0.827038       0.584143   \n",
            "std    279694.106053       0.138045           0.378216       0.492871   \n",
            "min       101.000000       0.066880           0.000000       0.000000   \n",
            "25%    156351.750000       0.514876           1.000000       0.000000   \n",
            "50%    354679.500000       0.601112           1.000000       1.000000   \n",
            "75%    598602.250000       0.703216           1.000000       1.000000   \n",
            "max    999976.000000       0.954075           1.000000       1.000000   \n",
            "\n",
            "            CHILDREN    POSTAL_CODE  ANNUAL_MILEAGE  SPEEDING_VIOLATIONS  \\\n",
            "count  105000.000000  105000.000000   105000.000000        105000.000000   \n",
            "mean        0.520000   18045.439267    11061.228571             0.675676   \n",
            "std         0.499602   16709.040449     2972.355482             1.383678   \n",
            "min         0.000000   10238.000000     2000.000000             0.000000   \n",
            "25%         0.000000   10238.000000     9000.000000             0.000000   \n",
            "50%         1.000000   10238.000000    11000.000000             0.000000   \n",
            "75%         1.000000   22957.750000    13000.000000             1.000000   \n",
            "max         1.000000   92101.000000    21000.000000            20.000000   \n",
            "\n",
            "                DUIS  PAST_ACCIDENTS        OUTCOME  \n",
            "count  105000.000000   105000.000000  105000.000000  \n",
            "mean        0.129733        0.549314       0.422648  \n",
            "std         0.589714        1.402809       0.493983  \n",
            "min         0.000000        0.000000       0.000000  \n",
            "25%         0.000000        0.000000       0.000000  \n",
            "50%         0.000000        0.000000       0.000000  \n",
            "75%         0.000000        0.000000       1.000000  \n",
            "max         6.000000       15.000000       1.000000  \n"
          ]
        }
      ]
    },
    {
      "cell_type": "code",
      "source": [
        "# Display all column names in the dataset\n",
        "print(data.columns)\n"
      ],
      "metadata": {
        "colab": {
          "base_uri": "https://localhost:8080/"
        },
        "id": "j1ozNw7h8TaG",
        "outputId": "a5eb188b-e981-41c1-8b42-f78d645540b8"
      },
      "execution_count": 6,
      "outputs": [
        {
          "output_type": "stream",
          "name": "stdout",
          "text": [
            "Index(['ID', 'AGE', 'GENDER', 'DRIVING_EXPERIENCE', 'EDUCATION', 'INCOME',\n",
            "       'CREDIT_SCORE', 'VEHICLE_OWNERSHIP', 'VEHICLE_YEAR', 'MARRIED',\n",
            "       'CHILDREN', 'POSTAL_CODE', 'ANNUAL_MILEAGE', 'SPEEDING_VIOLATIONS',\n",
            "       'DUIS', 'PAST_ACCIDENTS', 'OUTCOME', 'TYPE_OF_VEHICLE'],\n",
            "      dtype='object')\n"
          ]
        }
      ]
    },
    {
      "cell_type": "code",
      "source": [
        "# Import necessary libraries\n",
        "import pandas as pd\n",
        "import matplotlib.pyplot as plt\n",
        "import seaborn as sns\n",
        "\n",
        "# Load the dataset\n",
        "data = pd.read_csv('/content/Lab12.csv')\n",
        "\n",
        "# Set a visual style for the plots\n",
        "sns.set(style=\"whitegrid\")\n",
        "\n",
        "# 1. Basic Information and Summary Statistics\n",
        "print(data.info())  # Overview of dataset structure\n",
        "print(data.describe())  # Summary statistics for numerical features\n",
        "print(data.head())  # Peek at the first few rows of the dataset\n"
      ],
      "metadata": {
        "colab": {
          "base_uri": "https://localhost:8080/"
        },
        "id": "-tEOJSbWqqwI",
        "outputId": "e8b0a9a0-f7a5-4538-d034-200b005a195b"
      },
      "execution_count": 7,
      "outputs": [
        {
          "output_type": "stream",
          "name": "stdout",
          "text": [
            "<class 'pandas.core.frame.DataFrame'>\n",
            "RangeIndex: 105000 entries, 0 to 104999\n",
            "Data columns (total 18 columns):\n",
            " #   Column               Non-Null Count   Dtype  \n",
            "---  ------               --------------   -----  \n",
            " 0   ID                   105000 non-null  int64  \n",
            " 1   AGE                  105000 non-null  object \n",
            " 2   GENDER               105000 non-null  object \n",
            " 3   DRIVING_EXPERIENCE   105000 non-null  object \n",
            " 4   EDUCATION            105000 non-null  object \n",
            " 5   INCOME               105000 non-null  object \n",
            " 6   CREDIT_SCORE         105000 non-null  float64\n",
            " 7   VEHICLE_OWNERSHIP    105000 non-null  float64\n",
            " 8   VEHICLE_YEAR         105000 non-null  object \n",
            " 9   MARRIED              105000 non-null  float64\n",
            " 10  CHILDREN             105000 non-null  float64\n",
            " 11  POSTAL_CODE          105000 non-null  int64  \n",
            " 12  ANNUAL_MILEAGE       105000 non-null  float64\n",
            " 13  SPEEDING_VIOLATIONS  105000 non-null  int64  \n",
            " 14  DUIS                 105000 non-null  int64  \n",
            " 15  PAST_ACCIDENTS       105000 non-null  int64  \n",
            " 16  OUTCOME              105000 non-null  float64\n",
            " 17  TYPE_OF_VEHICLE      105000 non-null  object \n",
            "dtypes: float64(6), int64(5), object(7)\n",
            "memory usage: 14.4+ MB\n",
            "None\n",
            "                  ID   CREDIT_SCORE  VEHICLE_OWNERSHIP        MARRIED  \\\n",
            "count  105000.000000  105000.000000      105000.000000  105000.000000   \n",
            "mean   394931.295905       0.602173           0.827038       0.584143   \n",
            "std    279694.106053       0.138045           0.378216       0.492871   \n",
            "min       101.000000       0.066880           0.000000       0.000000   \n",
            "25%    156351.750000       0.514876           1.000000       0.000000   \n",
            "50%    354679.500000       0.601112           1.000000       1.000000   \n",
            "75%    598602.250000       0.703216           1.000000       1.000000   \n",
            "max    999976.000000       0.954075           1.000000       1.000000   \n",
            "\n",
            "            CHILDREN    POSTAL_CODE  ANNUAL_MILEAGE  SPEEDING_VIOLATIONS  \\\n",
            "count  105000.000000  105000.000000   105000.000000        105000.000000   \n",
            "mean        0.520000   18045.439267    11061.228571             0.675676   \n",
            "std         0.499602   16709.040449     2972.355482             1.383678   \n",
            "min         0.000000   10238.000000     2000.000000             0.000000   \n",
            "25%         0.000000   10238.000000     9000.000000             0.000000   \n",
            "50%         1.000000   10238.000000    11000.000000             0.000000   \n",
            "75%         1.000000   22957.750000    13000.000000             1.000000   \n",
            "max         1.000000   92101.000000    21000.000000            20.000000   \n",
            "\n",
            "                DUIS  PAST_ACCIDENTS        OUTCOME  \n",
            "count  105000.000000   105000.000000  105000.000000  \n",
            "mean        0.129733        0.549314       0.422648  \n",
            "std         0.589714        1.402809       0.493983  \n",
            "min         0.000000        0.000000       0.000000  \n",
            "25%         0.000000        0.000000       0.000000  \n",
            "50%         0.000000        0.000000       0.000000  \n",
            "75%         0.000000        0.000000       1.000000  \n",
            "max         6.000000       15.000000       1.000000  \n",
            "       ID    AGE  GENDER DRIVING_EXPERIENCE    EDUCATION         INCOME  \\\n",
            "0  816393  40-64  female             20-29y   university   middle class   \n",
            "1  251762  26-39    male             20-29y  high school   middle class   \n",
            "2  481952  40-64    male             20-29y         none   middle class   \n",
            "3    3506  40-64    male             20-29y  high school    upper class   \n",
            "4  498013  40-64  female             20-29y         none  working class   \n",
            "\n",
            "   CREDIT_SCORE  VEHICLE_OWNERSHIP VEHICLE_YEAR  MARRIED  CHILDREN  \\\n",
            "0      0.638050                0.0   after 2015      0.0       0.0   \n",
            "1      0.475741                1.0  before 2015      1.0       0.0   \n",
            "2      0.839817                1.0  before 2015      1.0       1.0   \n",
            "3      0.682527                1.0  before 2015      0.0       1.0   \n",
            "4      0.572184                1.0   after 2015      1.0       1.0   \n",
            "\n",
            "   POSTAL_CODE  ANNUAL_MILEAGE  SPEEDING_VIOLATIONS  DUIS  PAST_ACCIDENTS  \\\n",
            "0        37379         11000.0                    0     0               0   \n",
            "1        10238          9000.0                    0     0               0   \n",
            "2        10238         12000.0                    0     0               0   \n",
            "3        92099          6000.0                    1     0               0   \n",
            "4        32122         15000.0                    0     0               1   \n",
            "\n",
            "   OUTCOME TYPE_OF_VEHICLE  \n",
            "0      0.0      Sports Car  \n",
            "1      1.0       HatchBack  \n",
            "2      1.0           Sedan  \n",
            "3      1.0           Sedan  \n",
            "4      0.0           Sedan  \n"
          ]
        }
      ]
    },
    {
      "cell_type": "code",
      "source": [
        "# Check for missing values\n",
        "print(data.isnull().sum())\n",
        "\n",
        "# If there are missing values, you can visualize them (optional)\n",
        "sns.heatmap(data.isnull(), cbar=False, cmap='viridis')\n",
        "plt.title('Missing Values in the Dataset')\n",
        "plt.show()\n"
      ],
      "metadata": {
        "colab": {
          "base_uri": "https://localhost:8080/",
          "height": 949
        },
        "id": "18zmgI-oBQrS",
        "outputId": "fbb25dd9-9738-4415-8ff8-7cc81d2e53f2"
      },
      "execution_count": 8,
      "outputs": [
        {
          "output_type": "stream",
          "name": "stdout",
          "text": [
            "ID                     0\n",
            "AGE                    0\n",
            "GENDER                 0\n",
            "DRIVING_EXPERIENCE     0\n",
            "EDUCATION              0\n",
            "INCOME                 0\n",
            "CREDIT_SCORE           0\n",
            "VEHICLE_OWNERSHIP      0\n",
            "VEHICLE_YEAR           0\n",
            "MARRIED                0\n",
            "CHILDREN               0\n",
            "POSTAL_CODE            0\n",
            "ANNUAL_MILEAGE         0\n",
            "SPEEDING_VIOLATIONS    0\n",
            "DUIS                   0\n",
            "PAST_ACCIDENTS         0\n",
            "OUTCOME                0\n",
            "TYPE_OF_VEHICLE        0\n",
            "dtype: int64\n"
          ]
        },
        {
          "output_type": "display_data",
          "data": {
            "text/plain": [
              "<Figure size 640x480 with 1 Axes>"
            ],
            "image/png": "[encoded data removed]"
          },
          "metadata": {}
        }
      ]
    },
    {
      "cell_type": "code",
      "source": [
        "# Summary of numerical features\n",
        "print(data.describe())\n",
        "\n",
        "# Plot histograms of numerical features\n",
        "data.hist(figsize=(15, 10), bins=30)\n",
        "plt.tight_layout()\n",
        "plt.show()\n"
      ],
      "metadata": {
        "colab": {
          "base_uri": "https://localhost:8080/"
        },
        "id": "qMMzxdtgBdS_",
        "outputId": "fcc8a7d1-336e-4a64-9fa2-5b3d0fb3d0a8"
      },
      "execution_count": null,
      "outputs": [
        {
          "output_type": "stream",
          "name": "stdout",
          "text": [
            "                  ID   CREDIT_SCORE  VEHICLE_OWNERSHIP        MARRIED  \\\n",
            "count  105000.000000  105000.000000      105000.000000  105000.000000   \n",
            "mean   394931.295905       0.602173           0.827038       0.584143   \n",
            "std    279694.106053       0.138045           0.378216       0.492871   \n",
            "min       101.000000       0.066880           0.000000       0.000000   \n",
            "25%    156351.750000       0.514876           1.000000       0.000000   \n",
            "50%    354679.500000       0.601112           1.000000       1.000000   \n",
            "75%    598602.250000       0.703216           1.000000       1.000000   \n",
            "max    999976.000000       0.954075           1.000000       1.000000   \n",
            "\n",
            "            CHILDREN    POSTAL_CODE  ANNUAL_MILEAGE  SPEEDING_VIOLATIONS  \\\n",
            "count  105000.000000  105000.000000   105000.000000        105000.000000   \n",
            "mean        0.520000   18045.439267    11061.228571             0.675676   \n",
            "std         0.499602   16709.040449     2972.355482             1.383678   \n",
            "min         0.000000   10238.000000     2000.000000             0.000000   \n",
            "25%         0.000000   10238.000000     9000.000000             0.000000   \n",
            "50%         1.000000   10238.000000    11000.000000             0.000000   \n",
            "75%         1.000000   22957.750000    13000.000000             1.000000   \n",
            "max         1.000000   92101.000000    21000.000000            20.000000   \n",
            "\n",
            "                DUIS  PAST_ACCIDENTS        OUTCOME  \n",
            "count  105000.000000   105000.000000  105000.000000  \n",
            "mean        0.129733        0.549314       0.422648  \n",
            "std         0.589714        1.402809       0.493983  \n",
            "min         0.000000        0.000000       0.000000  \n",
            "25%         0.000000        0.000000       0.000000  \n",
            "50%         0.000000        0.000000       0.000000  \n",
            "75%         0.000000        0.000000       1.000000  \n",
            "max         6.000000       15.000000       1.000000  \n"
          ]
        }
      ]
    },
    {
      "cell_type": "code",
      "source": [
        "# 2. Plot the distribution of the target variable (OUTCOME)\n",
        "plt.figure(figsize=(8,6))\n",
        "sns.countplot(data=data, x='OUTCOME')\n",
        "plt.title('Distribution of Outcome (Target Variable)')\n",
        "plt.xlabel('Outcome (0 = No Claim, 1 = Claim)')\n",
        "plt.ylabel('Count')\n",
        "plt.show()"
      ],
      "metadata": {
        "id": "VYwdPBpCqqs6"
      },
      "execution_count": null,
      "outputs": []
    },
    {
      "cell_type": "code",
      "source": [
        "# Plot the distribution of age groups and outcome\n",
        "plt.figure(figsize=(10,6))\n",
        "sns.countplot(data=data, x='AGE', hue='OUTCOME')\n",
        "plt.title('Age Distribution by Outcome')\n",
        "plt.xlabel('Age Group')\n",
        "plt.ylabel('Count')\n",
        "plt.show()\n",
        "\n",
        "# Plot the distribution of vehicle types and outcome\n",
        "plt.figure(figsize=(10,6))\n",
        "sns.countplot(data=data, x='TYPE_OF_VEHICLE', hue='OUTCOME')\n",
        "plt.title('Vehicle Type by Outcome')\n",
        "plt.xlabel('Vehicle Type')\n",
        "plt.ylabel('Count')\n",
        "plt.show()\n",
        "\n",
        "# Plot distribution of gender and outcome\n",
        "plt.figure(figsize=(8,6))\n",
        "sns.countplot(data=data, x='GENDER', hue='OUTCOME')\n",
        "plt.title('Gender Distribution by Outcome')\n",
        "plt.xlabel('Gender')\n",
        "plt.ylabel('Count')\n",
        "plt.show()\n"
      ],
      "metadata": {
        "id": "RKc26CMRBu0i"
      },
      "execution_count": null,
      "outputs": []
    },
    {
      "cell_type": "code",
      "source": [
        "# Exclude non-numeric columns before calculating the correlation matrix\n",
        "numeric_data = data.select_dtypes(include=['float64', 'int64'])\n",
        "\n",
        "# 4. Analyze the correlation between numerical features\n",
        "plt.figure(figsize=(12,8))\n",
        "corr = numeric_data.corr()  # Compute correlation matrix only on numeric columns\n",
        "sns.heatmap(corr, annot=True, cmap=\"coolwarm\", fmt=\".2f\")\n",
        "plt.title('Correlation Heatmap of Numerical Features')\n",
        "plt.show()"
      ],
      "metadata": {
        "id": "XCHG4Bn7Acm3"
      },
      "execution_count": null,
      "outputs": []
    },
    {
      "cell_type": "code",
      "source": [
        "# 5. Relationship between Credit Score and Outcome\n",
        "plt.figure(figsize=(8,6))\n",
        "sns.histplot(data=data, x='CREDIT_SCORE', hue='OUTCOME', multiple=\"stack\", kde=True)\n",
        "plt.title('Credit Score Distribution by Outcome')\n",
        "plt.xlabel('Credit Score')\n",
        "plt.ylabel('Density')\n",
        "plt.show()"
      ],
      "metadata": {
        "id": "rMje9YSCAcpg"
      },
      "execution_count": null,
      "outputs": []
    },
    {
      "cell_type": "code",
      "source": [
        "# 6. Explore the distribution of vehicle types in relation to the outcome\n",
        "plt.figure(figsize=(10,6))\n",
        "sns.countplot(data=data, x='TYPE_OF_VEHICLE', hue='OUTCOME')\n",
        "plt.title('Vehicle Type vs Outcome')\n",
        "plt.xlabel('Type of Vehicle')\n",
        "plt.ylabel('Count')\n",
        "plt.show()\n"
      ],
      "metadata": {
        "id": "0xMbKIl6Acsi"
      },
      "execution_count": null,
      "outputs": []
    },
    {
      "cell_type": "code",
      "source": [
        "# Driving Experience vs Outcome\n",
        "plt.figure(figsize=(10,6))\n",
        "sns.countplot(data=data, x='DRIVING_EXPERIENCE', hue='OUTCOME')\n",
        "plt.title('Driving Experience vs Outcome')\n",
        "plt.xlabel('Driving Experience')\n",
        "plt.ylabel('Count')\n",
        "plt.show()"
      ],
      "metadata": {
        "id": "EDj0cNtxCKSB"
      },
      "execution_count": null,
      "outputs": []
    },
    {
      "cell_type": "code",
      "source": [
        "# 7. Analyze the relationship between Annual Mileage and Outcome\n",
        "plt.figure(figsize=(8,6))\n",
        "sns.boxplot(data=data, x='OUTCOME', y='ANNUAL_MILEAGE')\n",
        "plt.title('Annual Mileage vs Outcome')\n",
        "plt.xlabel('Outcome')\n",
        "plt.ylabel('Annual Mileage')\n",
        "plt.show()\n"
      ],
      "metadata": {
        "id": "SgBVcHJ7qqly"
      },
      "execution_count": null,
      "outputs": []
    }
  ]
}